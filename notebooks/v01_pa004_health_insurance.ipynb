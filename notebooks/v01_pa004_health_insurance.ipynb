{
 "cells": [
  {
   "cell_type": "markdown",
   "id": "a2af2b09",
   "metadata": {},
   "source": [
    "# 0.0 IMPORTS"
   ]
  },
  {
   "cell_type": "code",
   "execution_count": 79,
   "id": "d148ddef",
   "metadata": {
    "ExecuteTime": {
     "end_time": "2023-05-04T16:50:18.902311Z",
     "start_time": "2023-05-04T16:50:18.888894Z"
    }
   },
   "outputs": [],
   "source": [
    "import pandas as pd\n",
    "import numpy as np\n",
    "import inflection\n",
    "import seaborn as sns\n",
    "import matplotlib.pyplot as plt "
   ]
  },
  {
   "cell_type": "markdown",
   "id": "ccc9e4b7",
   "metadata": {
    "heading_collapsed": true
   },
   "source": [
    "## 0.1 Loading Data"
   ]
  },
  {
   "cell_type": "code",
   "execution_count": 8,
   "id": "078497ea",
   "metadata": {
    "ExecuteTime": {
     "end_time": "2023-05-04T15:56:20.696816Z",
     "start_time": "2023-05-04T15:56:20.679332Z"
    },
    "hidden": true
   },
   "outputs": [],
   "source": [
    "path = 'C:/Users/edils/repos/pa004_health_insurance/data/'"
   ]
  },
  {
   "cell_type": "code",
   "execution_count": 9,
   "id": "79c486e9",
   "metadata": {
    "ExecuteTime": {
     "end_time": "2023-05-04T15:56:22.211813Z",
     "start_time": "2023-05-04T15:56:21.989122Z"
    },
    "hidden": true
   },
   "outputs": [],
   "source": [
    "df_raw = pd.read_csv(path + 'train.csv')"
   ]
  },
  {
   "cell_type": "markdown",
   "id": "1dbd4954",
   "metadata": {},
   "source": [
    "## 0.2 Helper Functions"
   ]
  },
  {
   "cell_type": "markdown",
   "id": "9bd44a71",
   "metadata": {},
   "source": [
    "# 1.0 DATA DESCRIPTION"
   ]
  },
  {
   "cell_type": "code",
   "execution_count": 11,
   "id": "d1fb49e1",
   "metadata": {
    "ExecuteTime": {
     "end_time": "2023-05-04T16:03:13.941765Z",
     "start_time": "2023-05-04T16:03:13.914417Z"
    }
   },
   "outputs": [],
   "source": [
    "df1 = df_raw.copy()"
   ]
  },
  {
   "cell_type": "markdown",
   "id": "e9b567d0",
   "metadata": {
    "heading_collapsed": true
   },
   "source": [
    "## 1.1 Rename Columns"
   ]
  },
  {
   "cell_type": "code",
   "execution_count": 22,
   "id": "9a6ff316",
   "metadata": {
    "ExecuteTime": {
     "end_time": "2023-05-04T16:09:21.408013Z",
     "start_time": "2023-05-04T16:09:21.394876Z"
    },
    "hidden": true
   },
   "outputs": [],
   "source": [
    "cols_old = df1.columns\n",
    "\n",
    "cols_new = []\n",
    "cols_new = cols_old.map(lambda x: inflection.underscore(x))\n",
    "\n",
    "df1.columns = cols_new"
   ]
  },
  {
   "cell_type": "markdown",
   "id": "1861888a",
   "metadata": {
    "heading_collapsed": true
   },
   "source": [
    "## 1.2 Data Dimension"
   ]
  },
  {
   "cell_type": "code",
   "execution_count": 29,
   "id": "3482b962",
   "metadata": {
    "ExecuteTime": {
     "end_time": "2023-05-04T16:11:28.408381Z",
     "start_time": "2023-05-04T16:11:28.396755Z"
    },
    "hidden": true
   },
   "outputs": [
    {
     "data": {
      "text/plain": [
       "(381109, 12)"
      ]
     },
     "execution_count": 29,
     "metadata": {},
     "output_type": "execute_result"
    }
   ],
   "source": [
    "df1.shape"
   ]
  },
  {
   "cell_type": "markdown",
   "id": "90506cd5",
   "metadata": {
    "heading_collapsed": true
   },
   "source": [
    "## 1.3 Data Types"
   ]
  },
  {
   "cell_type": "code",
   "execution_count": 30,
   "id": "e3a2429e",
   "metadata": {
    "ExecuteTime": {
     "end_time": "2023-05-04T16:11:52.617644Z",
     "start_time": "2023-05-04T16:11:52.612567Z"
    },
    "hidden": true
   },
   "outputs": [
    {
     "data": {
      "text/plain": [
       "id                        int64\n",
       "gender                   object\n",
       "age                       int64\n",
       "driving_license           int64\n",
       "region_code             float64\n",
       "previously_insured        int64\n",
       "vehicle_age              object\n",
       "vehicle_damage           object\n",
       "annual_premium          float64\n",
       "policy_sales_channel    float64\n",
       "vintage                   int64\n",
       "response                  int64\n",
       "dtype: object"
      ]
     },
     "execution_count": 30,
     "metadata": {},
     "output_type": "execute_result"
    }
   ],
   "source": [
    "df1.dtypes"
   ]
  },
  {
   "cell_type": "markdown",
   "id": "0e9d44c7",
   "metadata": {
    "heading_collapsed": true
   },
   "source": [
    "## 1.4 Check NA "
   ]
  },
  {
   "cell_type": "code",
   "execution_count": 34,
   "id": "dfb239cd",
   "metadata": {
    "ExecuteTime": {
     "end_time": "2023-05-04T16:13:42.008292Z",
     "start_time": "2023-05-04T16:13:41.907314Z"
    },
    "hidden": true
   },
   "outputs": [
    {
     "data": {
      "text/plain": [
       "id                      0\n",
       "gender                  0\n",
       "age                     0\n",
       "driving_license         0\n",
       "region_code             0\n",
       "previously_insured      0\n",
       "vehicle_age             0\n",
       "vehicle_damage          0\n",
       "annual_premium          0\n",
       "policy_sales_channel    0\n",
       "vintage                 0\n",
       "response                0\n",
       "dtype: int64"
      ]
     },
     "execution_count": 34,
     "metadata": {},
     "output_type": "execute_result"
    }
   ],
   "source": [
    "df1.isna().sum()"
   ]
  },
  {
   "cell_type": "markdown",
   "id": "fa3f0a91",
   "metadata": {
    "heading_collapsed": true
   },
   "source": [
    "## 1.5 Descriptive Statistics"
   ]
  },
  {
   "cell_type": "code",
   "execution_count": 36,
   "id": "d4a1a92f",
   "metadata": {
    "ExecuteTime": {
     "end_time": "2023-05-04T16:18:10.923707Z",
     "start_time": "2023-05-04T16:18:10.913044Z"
    },
    "hidden": true
   },
   "outputs": [],
   "source": [
    "numerical_attributes = df1.select_dtypes(include=['int64', 'float64'])\n",
    "categorical_attributes = df1.select_dtypes(exclude=['int64', 'float64'])"
   ]
  },
  {
   "cell_type": "markdown",
   "id": "7a8e4363",
   "metadata": {
    "heading_collapsed": true,
    "hidden": true
   },
   "source": [
    "### 1.5.1 Numerical Attributes"
   ]
  },
  {
   "cell_type": "code",
   "execution_count": 68,
   "id": "d6a004dc",
   "metadata": {
    "ExecuteTime": {
     "end_time": "2023-05-04T16:44:29.860820Z",
     "start_time": "2023-05-04T16:44:29.671029Z"
    },
    "hidden": true
   },
   "outputs": [],
   "source": [
    "#Dispersion - std, min, max, range, skew, kurtosis + #Central Tendency - mean, median\n",
    "disp = numerical_attributes.agg(['std','mean','median','min','max',lambda x: x.max()-x.min(),'skew','kurtosis']).T.reset_index()\n",
    "disp = disp.rename(columns={'index': 'attributes', '<lambda>': 'range'})"
   ]
  },
  {
   "cell_type": "code",
   "execution_count": 70,
   "id": "ada5d655",
   "metadata": {
    "ExecuteTime": {
     "end_time": "2023-05-04T16:44:36.866089Z",
     "start_time": "2023-05-04T16:44:36.850888Z"
    },
    "hidden": true
   },
   "outputs": [
    {
     "data": {
      "text/html": [
       "<div>\n",
       "<style scoped>\n",
       "    .dataframe tbody tr th:only-of-type {\n",
       "        vertical-align: middle;\n",
       "    }\n",
       "\n",
       "    .dataframe tbody tr th {\n",
       "        vertical-align: top;\n",
       "    }\n",
       "\n",
       "    .dataframe thead th {\n",
       "        text-align: right;\n",
       "    }\n",
       "</style>\n",
       "<table border=\"1\" class=\"dataframe\">\n",
       "  <thead>\n",
       "    <tr style=\"text-align: right;\">\n",
       "      <th></th>\n",
       "      <th>attributes</th>\n",
       "      <th>std</th>\n",
       "      <th>mean</th>\n",
       "      <th>median</th>\n",
       "      <th>min</th>\n",
       "      <th>max</th>\n",
       "      <th>range</th>\n",
       "      <th>skew</th>\n",
       "      <th>kurtosis</th>\n",
       "    </tr>\n",
       "  </thead>\n",
       "  <tbody>\n",
       "    <tr>\n",
       "      <th>0</th>\n",
       "      <td>id</td>\n",
       "      <td>110016.836208</td>\n",
       "      <td>190555.000000</td>\n",
       "      <td>190555.0</td>\n",
       "      <td>1.0</td>\n",
       "      <td>381109.0</td>\n",
       "      <td>381108.0</td>\n",
       "      <td>9.443274e-16</td>\n",
       "      <td>-1.200000</td>\n",
       "    </tr>\n",
       "    <tr>\n",
       "      <th>1</th>\n",
       "      <td>age</td>\n",
       "      <td>15.511611</td>\n",
       "      <td>38.822584</td>\n",
       "      <td>36.0</td>\n",
       "      <td>20.0</td>\n",
       "      <td>85.0</td>\n",
       "      <td>65.0</td>\n",
       "      <td>6.725390e-01</td>\n",
       "      <td>-0.565655</td>\n",
       "    </tr>\n",
       "    <tr>\n",
       "      <th>2</th>\n",
       "      <td>driving_license</td>\n",
       "      <td>0.046110</td>\n",
       "      <td>0.997869</td>\n",
       "      <td>1.0</td>\n",
       "      <td>0.0</td>\n",
       "      <td>1.0</td>\n",
       "      <td>1.0</td>\n",
       "      <td>-2.159518e+01</td>\n",
       "      <td>464.354302</td>\n",
       "    </tr>\n",
       "    <tr>\n",
       "      <th>3</th>\n",
       "      <td>region_code</td>\n",
       "      <td>13.229888</td>\n",
       "      <td>26.388807</td>\n",
       "      <td>28.0</td>\n",
       "      <td>0.0</td>\n",
       "      <td>52.0</td>\n",
       "      <td>52.0</td>\n",
       "      <td>-1.152664e-01</td>\n",
       "      <td>-0.867857</td>\n",
       "    </tr>\n",
       "    <tr>\n",
       "      <th>4</th>\n",
       "      <td>previously_insured</td>\n",
       "      <td>0.498251</td>\n",
       "      <td>0.458210</td>\n",
       "      <td>0.0</td>\n",
       "      <td>0.0</td>\n",
       "      <td>1.0</td>\n",
       "      <td>1.0</td>\n",
       "      <td>1.677471e-01</td>\n",
       "      <td>-1.971871</td>\n",
       "    </tr>\n",
       "    <tr>\n",
       "      <th>5</th>\n",
       "      <td>annual_premium</td>\n",
       "      <td>17213.155057</td>\n",
       "      <td>30564.389581</td>\n",
       "      <td>31669.0</td>\n",
       "      <td>2630.0</td>\n",
       "      <td>540165.0</td>\n",
       "      <td>537535.0</td>\n",
       "      <td>1.766087e+00</td>\n",
       "      <td>34.004569</td>\n",
       "    </tr>\n",
       "    <tr>\n",
       "      <th>6</th>\n",
       "      <td>policy_sales_channel</td>\n",
       "      <td>54.203995</td>\n",
       "      <td>112.034295</td>\n",
       "      <td>133.0</td>\n",
       "      <td>1.0</td>\n",
       "      <td>163.0</td>\n",
       "      <td>162.0</td>\n",
       "      <td>-9.000081e-01</td>\n",
       "      <td>-0.970810</td>\n",
       "    </tr>\n",
       "    <tr>\n",
       "      <th>7</th>\n",
       "      <td>vintage</td>\n",
       "      <td>83.671304</td>\n",
       "      <td>154.347397</td>\n",
       "      <td>154.0</td>\n",
       "      <td>10.0</td>\n",
       "      <td>299.0</td>\n",
       "      <td>289.0</td>\n",
       "      <td>3.029517e-03</td>\n",
       "      <td>-1.200688</td>\n",
       "    </tr>\n",
       "    <tr>\n",
       "      <th>8</th>\n",
       "      <td>response</td>\n",
       "      <td>0.327936</td>\n",
       "      <td>0.122563</td>\n",
       "      <td>0.0</td>\n",
       "      <td>0.0</td>\n",
       "      <td>1.0</td>\n",
       "      <td>1.0</td>\n",
       "      <td>2.301906e+00</td>\n",
       "      <td>3.298788</td>\n",
       "    </tr>\n",
       "  </tbody>\n",
       "</table>\n",
       "</div>"
      ],
      "text/plain": [
       "             attributes            std           mean    median     min  \\\n",
       "0                    id  110016.836208  190555.000000  190555.0     1.0   \n",
       "1                   age      15.511611      38.822584      36.0    20.0   \n",
       "2       driving_license       0.046110       0.997869       1.0     0.0   \n",
       "3           region_code      13.229888      26.388807      28.0     0.0   \n",
       "4    previously_insured       0.498251       0.458210       0.0     0.0   \n",
       "5        annual_premium   17213.155057   30564.389581   31669.0  2630.0   \n",
       "6  policy_sales_channel      54.203995     112.034295     133.0     1.0   \n",
       "7               vintage      83.671304     154.347397     154.0    10.0   \n",
       "8              response       0.327936       0.122563       0.0     0.0   \n",
       "\n",
       "        max     range          skew    kurtosis  \n",
       "0  381109.0  381108.0  9.443274e-16   -1.200000  \n",
       "1      85.0      65.0  6.725390e-01   -0.565655  \n",
       "2       1.0       1.0 -2.159518e+01  464.354302  \n",
       "3      52.0      52.0 -1.152664e-01   -0.867857  \n",
       "4       1.0       1.0  1.677471e-01   -1.971871  \n",
       "5  540165.0  537535.0  1.766087e+00   34.004569  \n",
       "6     163.0     162.0 -9.000081e-01   -0.970810  \n",
       "7     299.0     289.0  3.029517e-03   -1.200688  \n",
       "8       1.0       1.0  2.301906e+00    3.298788  "
      ]
     },
     "execution_count": 70,
     "metadata": {},
     "output_type": "execute_result"
    }
   ],
   "source": [
    "disp"
   ]
  },
  {
   "cell_type": "markdown",
   "id": "b96ca4d2",
   "metadata": {
    "heading_collapsed": true,
    "hidden": true
   },
   "source": [
    "### 1.5.2 Categorical Attributes"
   ]
  },
  {
   "cell_type": "code",
   "execution_count": 72,
   "id": "85d08b12",
   "metadata": {
    "ExecuteTime": {
     "end_time": "2023-05-04T16:47:29.794625Z",
     "start_time": "2023-05-04T16:47:29.789152Z"
    },
    "hidden": true
   },
   "outputs": [
    {
     "data": {
      "text/plain": [
       "Index(['gender', 'vehicle_age', 'vehicle_damage'], dtype='object')"
      ]
     },
     "execution_count": 72,
     "metadata": {},
     "output_type": "execute_result"
    }
   ],
   "source": [
    "categorical_attributes.columns"
   ]
  },
  {
   "cell_type": "code",
   "execution_count": 83,
   "id": "5342e109",
   "metadata": {
    "ExecuteTime": {
     "end_time": "2023-05-04T16:54:39.357611Z",
     "start_time": "2023-05-04T16:54:38.808418Z"
    },
    "hidden": true
   },
   "outputs": [
    {
     "data": {
      "text/plain": [
       "<Axes: xlabel='vehicle_damage', ylabel='response'>"
      ]
     },
     "execution_count": 83,
     "metadata": {},
     "output_type": "execute_result"
    },
    {
     "data": {
      "image/png": "[encoded data removed]",
      "text/plain": [
       "<Figure size 2000x1000 with 3 Axes>"
      ]
     },
     "metadata": {},
     "output_type": "display_data"
    }
   ],
   "source": [
    "\n",
    "plt.figure(figsize=(20,10))\n",
    "\n",
    "plt.subplot(1,3,1)\n",
    "sns.barplot(x='gender', y='response', data=df1, errorbar=None)\n",
    "\n",
    "plt.subplot(1,3,2)\n",
    "sns.barplot(x='vehicle_age', y='response', data=df1, errorbar=None)\n",
    "\n",
    "plt.subplot(1,3,3)\n",
    "sns.barplot(x='vehicle_damage', y='response', data=df1, errorbar=None)\n"
   ]
  },
  {
   "cell_type": "markdown",
   "id": "a25d252e",
   "metadata": {},
   "source": [
    "# 2.0 FEATURE ENGINEERING"
   ]
  },
  {
   "cell_type": "markdown",
   "id": "daa5ee20",
   "metadata": {},
   "source": [
    "## 2.1 Hypothesis"
   ]
  },
  {
   "cell_type": "markdown",
   "id": "b7115d81",
   "metadata": {},
   "source": [
    "1. Pessoas que já possuem um seguro de saúde podem estar mais inclinadas a adquirir um seguro de veículo, pois já têm experiência com seguros.\n",
    "2. Clientes que possuem um histórico de acidentes de carro podem estar mais interessados em um seguro de veículo.\n",
    "3. Clientes que possuem um carro mais novo são mais prováveis de adquirirem o seguro.\n",
    "4. A idade do cliente pode ser um fator importante, com os clientes mais jovens sendo menos propensos a adquirir um seguro de veículo.\n",
    "5. A localização geográfica dos clientes pode ser um fator importante, com as pessoas que moram em áreas com altos índices de roubos de veículos sendo mais propensas a adquirir um seguro de veículo.\n",
    "6. O gênero do cliente pode ser um fator, com homens sendo mais propensos a adquirir um seguro de veículo.\n",
    "7. Clientes que já possuem seguro de veículo com outra empresa são menos propensos a adquirir o seguro da compania.\n",
    "8. O preço do seguro de veículo pode ser um fator importante, com clientes mais propensos a adquirir um seguro de veículo se os preços estiverem competitivos.\n",
    "9. Clientes com CNH são mais propensos a adquirirem o seguro."
   ]
  },
  {
   "cell_type": "markdown",
   "id": "51226f32",
   "metadata": {},
   "source": [
    "## 2.2 Feature Engineering"
   ]
  },
  {
   "cell_type": "code",
   "execution_count": 118,
   "id": "081635e7",
   "metadata": {
    "ExecuteTime": {
     "end_time": "2023-05-04T18:09:24.412600Z",
     "start_time": "2023-05-04T18:09:24.385193Z"
    }
   },
   "outputs": [],
   "source": [
    "df2 = df1.copy()"
   ]
  },
  {
   "cell_type": "code",
   "execution_count": 121,
   "id": "b9eec9ac",
   "metadata": {
    "ExecuteTime": {
     "end_time": "2023-05-04T18:09:30.675903Z",
     "start_time": "2023-05-04T18:09:30.653749Z"
    }
   },
   "outputs": [
    {
     "data": {
      "text/html": [
       "<div>\n",
       "<style scoped>\n",
       "    .dataframe tbody tr th:only-of-type {\n",
       "        vertical-align: middle;\n",
       "    }\n",
       "\n",
       "    .dataframe tbody tr th {\n",
       "        vertical-align: top;\n",
       "    }\n",
       "\n",
       "    .dataframe thead th {\n",
       "        text-align: right;\n",
       "    }\n",
       "</style>\n",
       "<table border=\"1\" class=\"dataframe\">\n",
       "  <thead>\n",
       "    <tr style=\"text-align: right;\">\n",
       "      <th></th>\n",
       "      <th>id</th>\n",
       "      <th>gender</th>\n",
       "      <th>age</th>\n",
       "      <th>driving_license</th>\n",
       "      <th>region_code</th>\n",
       "      <th>previously_insured</th>\n",
       "      <th>vehicle_age</th>\n",
       "      <th>vehicle_damage</th>\n",
       "      <th>annual_premium</th>\n",
       "      <th>policy_sales_channel</th>\n",
       "      <th>vintage</th>\n",
       "      <th>response</th>\n",
       "    </tr>\n",
       "  </thead>\n",
       "  <tbody>\n",
       "    <tr>\n",
       "      <th>0</th>\n",
       "      <td>1</td>\n",
       "      <td>1</td>\n",
       "      <td>44</td>\n",
       "      <td>1</td>\n",
       "      <td>28.0</td>\n",
       "      <td>0</td>\n",
       "      <td>old</td>\n",
       "      <td>1</td>\n",
       "      <td>40454.0</td>\n",
       "      <td>26.0</td>\n",
       "      <td>217</td>\n",
       "      <td>1</td>\n",
       "    </tr>\n",
       "    <tr>\n",
       "      <th>1</th>\n",
       "      <td>2</td>\n",
       "      <td>1</td>\n",
       "      <td>76</td>\n",
       "      <td>1</td>\n",
       "      <td>3.0</td>\n",
       "      <td>0</td>\n",
       "      <td>used</td>\n",
       "      <td>0</td>\n",
       "      <td>33536.0</td>\n",
       "      <td>26.0</td>\n",
       "      <td>183</td>\n",
       "      <td>0</td>\n",
       "    </tr>\n",
       "    <tr>\n",
       "      <th>2</th>\n",
       "      <td>3</td>\n",
       "      <td>1</td>\n",
       "      <td>47</td>\n",
       "      <td>1</td>\n",
       "      <td>28.0</td>\n",
       "      <td>0</td>\n",
       "      <td>old</td>\n",
       "      <td>1</td>\n",
       "      <td>38294.0</td>\n",
       "      <td>26.0</td>\n",
       "      <td>27</td>\n",
       "      <td>1</td>\n",
       "    </tr>\n",
       "    <tr>\n",
       "      <th>3</th>\n",
       "      <td>4</td>\n",
       "      <td>1</td>\n",
       "      <td>21</td>\n",
       "      <td>1</td>\n",
       "      <td>11.0</td>\n",
       "      <td>1</td>\n",
       "      <td>new</td>\n",
       "      <td>0</td>\n",
       "      <td>28619.0</td>\n",
       "      <td>152.0</td>\n",
       "      <td>203</td>\n",
       "      <td>0</td>\n",
       "    </tr>\n",
       "    <tr>\n",
       "      <th>4</th>\n",
       "      <td>5</td>\n",
       "      <td>0</td>\n",
       "      <td>29</td>\n",
       "      <td>1</td>\n",
       "      <td>41.0</td>\n",
       "      <td>1</td>\n",
       "      <td>new</td>\n",
       "      <td>0</td>\n",
       "      <td>27496.0</td>\n",
       "      <td>152.0</td>\n",
       "      <td>39</td>\n",
       "      <td>0</td>\n",
       "    </tr>\n",
       "  </tbody>\n",
       "</table>\n",
       "</div>"
      ],
      "text/plain": [
       "   id  gender  age  driving_license  region_code  previously_insured  \\\n",
       "0   1       1   44                1         28.0                   0   \n",
       "1   2       1   76                1          3.0                   0   \n",
       "2   3       1   47                1         28.0                   0   \n",
       "3   4       1   21                1         11.0                   1   \n",
       "4   5       0   29                1         41.0                   1   \n",
       "\n",
       "  vehicle_age  vehicle_damage  annual_premium  policy_sales_channel  vintage  \\\n",
       "0         old               1         40454.0                  26.0      217   \n",
       "1        used               0         33536.0                  26.0      183   \n",
       "2         old               1         38294.0                  26.0       27   \n",
       "3         new               0         28619.0                 152.0      203   \n",
       "4         new               0         27496.0                 152.0       39   \n",
       "\n",
       "   response  \n",
       "0         1  \n",
       "1         0  \n",
       "2         1  \n",
       "3         0  \n",
       "4         0  "
      ]
     },
     "execution_count": 121,
     "metadata": {},
     "output_type": "execute_result"
    }
   ],
   "source": [
    "df2.head()"
   ]
  },
  {
   "cell_type": "code",
   "execution_count": 120,
   "id": "78825ff6",
   "metadata": {
    "ExecuteTime": {
     "end_time": "2023-05-04T18:09:28.631383Z",
     "start_time": "2023-05-04T18:09:28.388686Z"
    }
   },
   "outputs": [],
   "source": [
    "#Renaming vehicle_age lines\n",
    "#< 1 Year = new || 1-2 Years = used || >2 Years = old\n",
    "df2['vehicle_age'] = df2['vehicle_age'].apply(lambda x: 'old' if x == '> 2 Years' else 'used' if x == '1-2 Year' else 'new')\n",
    "\n",
    "#Renaming vehicle_damage\n",
    "df2['vehicle_damage'] = df2['vehicle_damage'].apply(lambda x: 1 if x=='Yes' else 0)\n",
    "\n",
    "#Renaming gender #Male = 1, Female = 0\n",
    "df2['gender'] = df2['gender'].apply(lambda x: 1 if x=='Male' else 0)"
   ]
  },
  {
   "cell_type": "code",
   "execution_count": 122,
   "id": "cf36e810",
   "metadata": {
    "ExecuteTime": {
     "end_time": "2023-05-04T18:09:35.684119Z",
     "start_time": "2023-05-04T18:09:35.650454Z"
    }
   },
   "outputs": [
    {
     "data": {
      "text/html": [
       "<div>\n",
       "<style scoped>\n",
       "    .dataframe tbody tr th:only-of-type {\n",
       "        vertical-align: middle;\n",
       "    }\n",
       "\n",
       "    .dataframe tbody tr th {\n",
       "        vertical-align: top;\n",
       "    }\n",
       "\n",
       "    .dataframe thead th {\n",
       "        text-align: right;\n",
       "    }\n",
       "</style>\n",
       "<table border=\"1\" class=\"dataframe\">\n",
       "  <thead>\n",
       "    <tr style=\"text-align: right;\">\n",
       "      <th></th>\n",
       "      <th>256571</th>\n",
       "      <th>238755</th>\n",
       "      <th>41892</th>\n",
       "      <th>180183</th>\n",
       "      <th>79272</th>\n",
       "      <th>99951</th>\n",
       "      <th>169946</th>\n",
       "      <th>239034</th>\n",
       "      <th>314250</th>\n",
       "      <th>112749</th>\n",
       "      <th>128572</th>\n",
       "      <th>103891</th>\n",
       "      <th>251354</th>\n",
       "      <th>363886</th>\n",
       "      <th>47743</th>\n",
       "    </tr>\n",
       "  </thead>\n",
       "  <tbody>\n",
       "    <tr>\n",
       "      <th>id</th>\n",
       "      <td>256572</td>\n",
       "      <td>238756</td>\n",
       "      <td>41893</td>\n",
       "      <td>180184</td>\n",
       "      <td>79273</td>\n",
       "      <td>99952</td>\n",
       "      <td>169947</td>\n",
       "      <td>239035</td>\n",
       "      <td>314251</td>\n",
       "      <td>112750</td>\n",
       "      <td>128573</td>\n",
       "      <td>103892</td>\n",
       "      <td>251355</td>\n",
       "      <td>363887</td>\n",
       "      <td>47744</td>\n",
       "    </tr>\n",
       "    <tr>\n",
       "      <th>gender</th>\n",
       "      <td>1</td>\n",
       "      <td>1</td>\n",
       "      <td>1</td>\n",
       "      <td>1</td>\n",
       "      <td>1</td>\n",
       "      <td>1</td>\n",
       "      <td>0</td>\n",
       "      <td>0</td>\n",
       "      <td>1</td>\n",
       "      <td>1</td>\n",
       "      <td>1</td>\n",
       "      <td>1</td>\n",
       "      <td>0</td>\n",
       "      <td>1</td>\n",
       "      <td>0</td>\n",
       "    </tr>\n",
       "    <tr>\n",
       "      <th>age</th>\n",
       "      <td>31</td>\n",
       "      <td>45</td>\n",
       "      <td>22</td>\n",
       "      <td>46</td>\n",
       "      <td>45</td>\n",
       "      <td>55</td>\n",
       "      <td>42</td>\n",
       "      <td>27</td>\n",
       "      <td>25</td>\n",
       "      <td>23</td>\n",
       "      <td>25</td>\n",
       "      <td>52</td>\n",
       "      <td>25</td>\n",
       "      <td>20</td>\n",
       "      <td>56</td>\n",
       "    </tr>\n",
       "    <tr>\n",
       "      <th>driving_license</th>\n",
       "      <td>1</td>\n",
       "      <td>1</td>\n",
       "      <td>1</td>\n",
       "      <td>1</td>\n",
       "      <td>1</td>\n",
       "      <td>1</td>\n",
       "      <td>1</td>\n",
       "      <td>1</td>\n",
       "      <td>1</td>\n",
       "      <td>1</td>\n",
       "      <td>1</td>\n",
       "      <td>1</td>\n",
       "      <td>1</td>\n",
       "      <td>1</td>\n",
       "      <td>1</td>\n",
       "    </tr>\n",
       "    <tr>\n",
       "      <th>region_code</th>\n",
       "      <td>35.0</td>\n",
       "      <td>41.0</td>\n",
       "      <td>41.0</td>\n",
       "      <td>41.0</td>\n",
       "      <td>28.0</td>\n",
       "      <td>28.0</td>\n",
       "      <td>28.0</td>\n",
       "      <td>21.0</td>\n",
       "      <td>45.0</td>\n",
       "      <td>30.0</td>\n",
       "      <td>33.0</td>\n",
       "      <td>46.0</td>\n",
       "      <td>8.0</td>\n",
       "      <td>46.0</td>\n",
       "      <td>3.0</td>\n",
       "    </tr>\n",
       "    <tr>\n",
       "      <th>previously_insured</th>\n",
       "      <td>0</td>\n",
       "      <td>0</td>\n",
       "      <td>0</td>\n",
       "      <td>0</td>\n",
       "      <td>0</td>\n",
       "      <td>1</td>\n",
       "      <td>0</td>\n",
       "      <td>1</td>\n",
       "      <td>1</td>\n",
       "      <td>1</td>\n",
       "      <td>1</td>\n",
       "      <td>0</td>\n",
       "      <td>1</td>\n",
       "      <td>1</td>\n",
       "      <td>1</td>\n",
       "    </tr>\n",
       "    <tr>\n",
       "      <th>vehicle_age</th>\n",
       "      <td>new</td>\n",
       "      <td>used</td>\n",
       "      <td>new</td>\n",
       "      <td>used</td>\n",
       "      <td>old</td>\n",
       "      <td>used</td>\n",
       "      <td>old</td>\n",
       "      <td>new</td>\n",
       "      <td>new</td>\n",
       "      <td>new</td>\n",
       "      <td>new</td>\n",
       "      <td>used</td>\n",
       "      <td>new</td>\n",
       "      <td>new</td>\n",
       "      <td>used</td>\n",
       "    </tr>\n",
       "    <tr>\n",
       "      <th>vehicle_damage</th>\n",
       "      <td>1</td>\n",
       "      <td>1</td>\n",
       "      <td>1</td>\n",
       "      <td>1</td>\n",
       "      <td>1</td>\n",
       "      <td>0</td>\n",
       "      <td>1</td>\n",
       "      <td>0</td>\n",
       "      <td>0</td>\n",
       "      <td>0</td>\n",
       "      <td>0</td>\n",
       "      <td>1</td>\n",
       "      <td>0</td>\n",
       "      <td>0</td>\n",
       "      <td>0</td>\n",
       "    </tr>\n",
       "    <tr>\n",
       "      <th>annual_premium</th>\n",
       "      <td>25613.0</td>\n",
       "      <td>38077.0</td>\n",
       "      <td>40400.0</td>\n",
       "      <td>35171.0</td>\n",
       "      <td>55602.0</td>\n",
       "      <td>2630.0</td>\n",
       "      <td>35951.0</td>\n",
       "      <td>24964.0</td>\n",
       "      <td>28661.0</td>\n",
       "      <td>25523.0</td>\n",
       "      <td>48428.0</td>\n",
       "      <td>2630.0</td>\n",
       "      <td>66607.0</td>\n",
       "      <td>38222.0</td>\n",
       "      <td>27252.0</td>\n",
       "    </tr>\n",
       "    <tr>\n",
       "      <th>policy_sales_channel</th>\n",
       "      <td>152.0</td>\n",
       "      <td>26.0</td>\n",
       "      <td>152.0</td>\n",
       "      <td>124.0</td>\n",
       "      <td>26.0</td>\n",
       "      <td>26.0</td>\n",
       "      <td>122.0</td>\n",
       "      <td>152.0</td>\n",
       "      <td>152.0</td>\n",
       "      <td>152.0</td>\n",
       "      <td>151.0</td>\n",
       "      <td>124.0</td>\n",
       "      <td>152.0</td>\n",
       "      <td>160.0</td>\n",
       "      <td>26.0</td>\n",
       "    </tr>\n",
       "    <tr>\n",
       "      <th>vintage</th>\n",
       "      <td>219</td>\n",
       "      <td>108</td>\n",
       "      <td>68</td>\n",
       "      <td>268</td>\n",
       "      <td>269</td>\n",
       "      <td>49</td>\n",
       "      <td>32</td>\n",
       "      <td>19</td>\n",
       "      <td>176</td>\n",
       "      <td>40</td>\n",
       "      <td>70</td>\n",
       "      <td>187</td>\n",
       "      <td>164</td>\n",
       "      <td>19</td>\n",
       "      <td>263</td>\n",
       "    </tr>\n",
       "    <tr>\n",
       "      <th>response</th>\n",
       "      <td>0</td>\n",
       "      <td>0</td>\n",
       "      <td>0</td>\n",
       "      <td>0</td>\n",
       "      <td>1</td>\n",
       "      <td>0</td>\n",
       "      <td>1</td>\n",
       "      <td>0</td>\n",
       "      <td>0</td>\n",
       "      <td>0</td>\n",
       "      <td>0</td>\n",
       "      <td>0</td>\n",
       "      <td>0</td>\n",
       "      <td>0</td>\n",
       "      <td>0</td>\n",
       "    </tr>\n",
       "  </tbody>\n",
       "</table>\n",
       "</div>"
      ],
      "text/plain": [
       "                       256571   238755   41892    180183   79272   99951   \\\n",
       "id                     256572   238756    41893   180184    79273   99952   \n",
       "gender                      1        1        1        1        1       1   \n",
       "age                        31       45       22       46       45      55   \n",
       "driving_license             1        1        1        1        1       1   \n",
       "region_code              35.0     41.0     41.0     41.0     28.0    28.0   \n",
       "previously_insured          0        0        0        0        0       1   \n",
       "vehicle_age               new     used      new     used      old    used   \n",
       "vehicle_damage              1        1        1        1        1       0   \n",
       "annual_premium        25613.0  38077.0  40400.0  35171.0  55602.0  2630.0   \n",
       "policy_sales_channel    152.0     26.0    152.0    124.0     26.0    26.0   \n",
       "vintage                   219      108       68      268      269      49   \n",
       "response                    0        0        0        0        1       0   \n",
       "\n",
       "                       169946   239034   314250   112749   128572  103891  \\\n",
       "id                     169947   239035   314251   112750   128573  103892   \n",
       "gender                      0        0        1        1        1       1   \n",
       "age                        42       27       25       23       25      52   \n",
       "driving_license             1        1        1        1        1       1   \n",
       "region_code              28.0     21.0     45.0     30.0     33.0    46.0   \n",
       "previously_insured          0        1        1        1        1       0   \n",
       "vehicle_age               old      new      new      new      new    used   \n",
       "vehicle_damage              1        0        0        0        0       1   \n",
       "annual_premium        35951.0  24964.0  28661.0  25523.0  48428.0  2630.0   \n",
       "policy_sales_channel    122.0    152.0    152.0    152.0    151.0   124.0   \n",
       "vintage                    32       19      176       40       70     187   \n",
       "response                    1        0        0        0        0       0   \n",
       "\n",
       "                       251354   363886   47743   \n",
       "id                     251355   363887    47744  \n",
       "gender                      0        1        0  \n",
       "age                        25       20       56  \n",
       "driving_license             1        1        1  \n",
       "region_code               8.0     46.0      3.0  \n",
       "previously_insured          1        1        1  \n",
       "vehicle_age               new      new     used  \n",
       "vehicle_damage              0        0        0  \n",
       "annual_premium        66607.0  38222.0  27252.0  \n",
       "policy_sales_channel    152.0    160.0     26.0  \n",
       "vintage                   164       19      263  \n",
       "response                    0        0        0  "
      ]
     },
     "execution_count": 122,
     "metadata": {},
     "output_type": "execute_result"
    }
   ],
   "source": [
    "    df2.sample(15).T"
   ]
  },
  {
   "cell_type": "markdown",
   "id": "471bc5ef",
   "metadata": {},
   "source": [
    "# 3.0 VARIABLE FILTERING"
   ]
  },
  {
   "cell_type": "code",
   "execution_count": 123,
   "id": "6aebd00d",
   "metadata": {
    "ExecuteTime": {
     "end_time": "2023-05-04T18:10:04.533302Z",
     "start_time": "2023-05-04T18:10:04.521686Z"
    }
   },
   "outputs": [],
   "source": [
    "df3 = df2.copy()"
   ]
  },
  {
   "cell_type": "code",
   "execution_count": 129,
   "id": "1335ce1e",
   "metadata": {
    "ExecuteTime": {
     "end_time": "2023-05-04T18:13:54.368050Z",
     "start_time": "2023-05-04T18:13:54.344244Z"
    }
   },
   "outputs": [
    {
     "data": {
      "text/html": [
       "<div>\n",
       "<style scoped>\n",
       "    .dataframe tbody tr th:only-of-type {\n",
       "        vertical-align: middle;\n",
       "    }\n",
       "\n",
       "    .dataframe tbody tr th {\n",
       "        vertical-align: top;\n",
       "    }\n",
       "\n",
       "    .dataframe thead th {\n",
       "        text-align: right;\n",
       "    }\n",
       "</style>\n",
       "<table border=\"1\" class=\"dataframe\">\n",
       "  <thead>\n",
       "    <tr style=\"text-align: right;\">\n",
       "      <th></th>\n",
       "      <th>gender</th>\n",
       "      <th>age</th>\n",
       "      <th>driving_license</th>\n",
       "      <th>region_code</th>\n",
       "      <th>previously_insured</th>\n",
       "      <th>vehicle_age</th>\n",
       "      <th>vehicle_damage</th>\n",
       "      <th>annual_premium</th>\n",
       "      <th>policy_sales_channel</th>\n",
       "      <th>vintage</th>\n",
       "      <th>response</th>\n",
       "    </tr>\n",
       "  </thead>\n",
       "  <tbody>\n",
       "    <tr>\n",
       "      <th>0</th>\n",
       "      <td>1</td>\n",
       "      <td>44</td>\n",
       "      <td>1</td>\n",
       "      <td>28.0</td>\n",
       "      <td>0</td>\n",
       "      <td>old</td>\n",
       "      <td>1</td>\n",
       "      <td>40454.0</td>\n",
       "      <td>26.0</td>\n",
       "      <td>217</td>\n",
       "      <td>1</td>\n",
       "    </tr>\n",
       "    <tr>\n",
       "      <th>1</th>\n",
       "      <td>1</td>\n",
       "      <td>76</td>\n",
       "      <td>1</td>\n",
       "      <td>3.0</td>\n",
       "      <td>0</td>\n",
       "      <td>used</td>\n",
       "      <td>0</td>\n",
       "      <td>33536.0</td>\n",
       "      <td>26.0</td>\n",
       "      <td>183</td>\n",
       "      <td>0</td>\n",
       "    </tr>\n",
       "    <tr>\n",
       "      <th>2</th>\n",
       "      <td>1</td>\n",
       "      <td>47</td>\n",
       "      <td>1</td>\n",
       "      <td>28.0</td>\n",
       "      <td>0</td>\n",
       "      <td>old</td>\n",
       "      <td>1</td>\n",
       "      <td>38294.0</td>\n",
       "      <td>26.0</td>\n",
       "      <td>27</td>\n",
       "      <td>1</td>\n",
       "    </tr>\n",
       "    <tr>\n",
       "      <th>3</th>\n",
       "      <td>1</td>\n",
       "      <td>21</td>\n",
       "      <td>1</td>\n",
       "      <td>11.0</td>\n",
       "      <td>1</td>\n",
       "      <td>new</td>\n",
       "      <td>0</td>\n",
       "      <td>28619.0</td>\n",
       "      <td>152.0</td>\n",
       "      <td>203</td>\n",
       "      <td>0</td>\n",
       "    </tr>\n",
       "    <tr>\n",
       "      <th>4</th>\n",
       "      <td>0</td>\n",
       "      <td>29</td>\n",
       "      <td>1</td>\n",
       "      <td>41.0</td>\n",
       "      <td>1</td>\n",
       "      <td>new</td>\n",
       "      <td>0</td>\n",
       "      <td>27496.0</td>\n",
       "      <td>152.0</td>\n",
       "      <td>39</td>\n",
       "      <td>0</td>\n",
       "    </tr>\n",
       "  </tbody>\n",
       "</table>\n",
       "</div>"
      ],
      "text/plain": [
       "   gender  age  driving_license  region_code  previously_insured vehicle_age  \\\n",
       "0       1   44                1         28.0                   0         old   \n",
       "1       1   76                1          3.0                   0        used   \n",
       "2       1   47                1         28.0                   0         old   \n",
       "3       1   21                1         11.0                   1         new   \n",
       "4       0   29                1         41.0                   1         new   \n",
       "\n",
       "   vehicle_damage  annual_premium  policy_sales_channel  vintage  response  \n",
       "0               1         40454.0                  26.0      217         1  \n",
       "1               0         33536.0                  26.0      183         0  \n",
       "2               1         38294.0                  26.0       27         1  \n",
       "3               0         28619.0                 152.0      203         0  \n",
       "4               0         27496.0                 152.0       39         0  "
      ]
     },
     "execution_count": 129,
     "metadata": {},
     "output_type": "execute_result"
    }
   ],
   "source": [
    "df3.head()"
   ]
  },
  {
   "cell_type": "code",
   "execution_count": 128,
   "id": "66df4188",
   "metadata": {
    "ExecuteTime": {
     "end_time": "2023-05-04T18:13:51.534089Z",
     "start_time": "2023-05-04T18:13:51.509662Z"
    }
   },
   "outputs": [],
   "source": [
    "df3 = df3.drop(columns=['id'])"
   ]
  },
  {
   "cell_type": "markdown",
   "id": "fd4b0466",
   "metadata": {},
   "source": [
    "# 4.0 EXPLORATORY DATA ANALYSIS"
   ]
  },
  {
   "cell_type": "code",
   "execution_count": 130,
   "id": "48a9546b",
   "metadata": {
    "ExecuteTime": {
     "end_time": "2023-05-04T18:14:48.952506Z",
     "start_time": "2023-05-04T18:14:48.940675Z"
    }
   },
   "outputs": [],
   "source": [
    "df4 = df3.copy()"
   ]
  },
  {
   "cell_type": "code",
   "execution_count": 131,
   "id": "79baf074",
   "metadata": {
    "ExecuteTime": {
     "end_time": "2023-05-04T18:14:55.469015Z",
     "start_time": "2023-05-04T18:14:55.458530Z"
    }
   },
   "outputs": [
    {
     "data": {
      "text/html": [
       "<div>\n",
       "<style scoped>\n",
       "    .dataframe tbody tr th:only-of-type {\n",
       "        vertical-align: middle;\n",
       "    }\n",
       "\n",
       "    .dataframe tbody tr th {\n",
       "        vertical-align: top;\n",
       "    }\n",
       "\n",
       "    .dataframe thead th {\n",
       "        text-align: right;\n",
       "    }\n",
       "</style>\n",
       "<table border=\"1\" class=\"dataframe\">\n",
       "  <thead>\n",
       "    <tr style=\"text-align: right;\">\n",
       "      <th></th>\n",
       "      <th>gender</th>\n",
       "      <th>age</th>\n",
       "      <th>driving_license</th>\n",
       "      <th>region_code</th>\n",
       "      <th>previously_insured</th>\n",
       "      <th>vehicle_age</th>\n",
       "      <th>vehicle_damage</th>\n",
       "      <th>annual_premium</th>\n",
       "      <th>policy_sales_channel</th>\n",
       "      <th>vintage</th>\n",
       "      <th>response</th>\n",
       "    </tr>\n",
       "  </thead>\n",
       "  <tbody>\n",
       "    <tr>\n",
       "      <th>0</th>\n",
       "      <td>1</td>\n",
       "      <td>44</td>\n",
       "      <td>1</td>\n",
       "      <td>28.0</td>\n",
       "      <td>0</td>\n",
       "      <td>old</td>\n",
       "      <td>1</td>\n",
       "      <td>40454.0</td>\n",
       "      <td>26.0</td>\n",
       "      <td>217</td>\n",
       "      <td>1</td>\n",
       "    </tr>\n",
       "    <tr>\n",
       "      <th>1</th>\n",
       "      <td>1</td>\n",
       "      <td>76</td>\n",
       "      <td>1</td>\n",
       "      <td>3.0</td>\n",
       "      <td>0</td>\n",
       "      <td>used</td>\n",
       "      <td>0</td>\n",
       "      <td>33536.0</td>\n",
       "      <td>26.0</td>\n",
       "      <td>183</td>\n",
       "      <td>0</td>\n",
       "    </tr>\n",
       "    <tr>\n",
       "      <th>2</th>\n",
       "      <td>1</td>\n",
       "      <td>47</td>\n",
       "      <td>1</td>\n",
       "      <td>28.0</td>\n",
       "      <td>0</td>\n",
       "      <td>old</td>\n",
       "      <td>1</td>\n",
       "      <td>38294.0</td>\n",
       "      <td>26.0</td>\n",
       "      <td>27</td>\n",
       "      <td>1</td>\n",
       "    </tr>\n",
       "    <tr>\n",
       "      <th>3</th>\n",
       "      <td>1</td>\n",
       "      <td>21</td>\n",
       "      <td>1</td>\n",
       "      <td>11.0</td>\n",
       "      <td>1</td>\n",
       "      <td>new</td>\n",
       "      <td>0</td>\n",
       "      <td>28619.0</td>\n",
       "      <td>152.0</td>\n",
       "      <td>203</td>\n",
       "      <td>0</td>\n",
       "    </tr>\n",
       "    <tr>\n",
       "      <th>4</th>\n",
       "      <td>0</td>\n",
       "      <td>29</td>\n",
       "      <td>1</td>\n",
       "      <td>41.0</td>\n",
       "      <td>1</td>\n",
       "      <td>new</td>\n",
       "      <td>0</td>\n",
       "      <td>27496.0</td>\n",
       "      <td>152.0</td>\n",
       "      <td>39</td>\n",
       "      <td>0</td>\n",
       "    </tr>\n",
       "  </tbody>\n",
       "</table>\n",
       "</div>"
      ],
      "text/plain": [
       "   gender  age  driving_license  region_code  previously_insured vehicle_age  \\\n",
       "0       1   44                1         28.0                   0         old   \n",
       "1       1   76                1          3.0                   0        used   \n",
       "2       1   47                1         28.0                   0         old   \n",
       "3       1   21                1         11.0                   1         new   \n",
       "4       0   29                1         41.0                   1         new   \n",
       "\n",
       "   vehicle_damage  annual_premium  policy_sales_channel  vintage  response  \n",
       "0               1         40454.0                  26.0      217         1  \n",
       "1               0         33536.0                  26.0      183         0  \n",
       "2               1         38294.0                  26.0       27         1  \n",
       "3               0         28619.0                 152.0      203         0  \n",
       "4               0         27496.0                 152.0       39         0  "
      ]
     },
     "execution_count": 131,
     "metadata": {},
     "output_type": "execute_result"
    }
   ],
   "source": [
    "df4.head()"
   ]
  },
  {
   "cell_type": "markdown",
   "id": "286cbdd9",
   "metadata": {},
   "source": [
    "## 4.1 Unilateral Analysis"
   ]
  },
  {
   "cell_type": "markdown",
   "id": "e472f877",
   "metadata": {},
   "source": [
    "### 4.1.1 Numerical Variables"
   ]
  },
  {
   "cell_type": "code",
   "execution_count": 157,
   "id": "1d7721a5",
   "metadata": {
    "ExecuteTime": {
     "end_time": "2023-05-04T18:56:19.014809Z",
     "start_time": "2023-05-04T18:56:17.711962Z"
    },
    "scrolled": false
   },
   "outputs": [
    {
     "name": "stderr",
     "output_type": "stream",
     "text": [
      "C:\\Users\\edils\\AppData\\Local\\Temp\\ipykernel_17804\\4039046104.py:3: UserWarning: To output multiple subplots, the figure containing the passed axes is being cleared.\n",
      "  numerical_attributes.hist(ax = ax, bins=25);\n"
     ]
    },
    {
     "data": {
      "image/png": "[encoded data removed]",
      "text/plain": [
       "<Figure size 2000x1000 with 9 Axes>"
      ]
     },
     "metadata": {},
     "output_type": "display_data"
    }
   ],
   "source": [
    "fig = plt.figure(figsize=(20,10))\n",
    "ax = fig.gca()\n",
    "numerical_attributes.hist(ax = ax, bins=25);"
   ]
  },
  {
   "cell_type": "markdown",
   "id": "c62813b1",
   "metadata": {},
   "source": [
    "### 4.1.2 Categorical Variables"
   ]
  },
  {
   "cell_type": "code",
   "execution_count": 142,
   "id": "c91f6d76",
   "metadata": {
    "ExecuteTime": {
     "end_time": "2023-05-04T18:35:21.678773Z",
     "start_time": "2023-05-04T18:35:21.675771Z"
    }
   },
   "outputs": [
    {
     "data": {
      "text/plain": [
       "Index(['gender', 'vehicle_age', 'vehicle_damage'], dtype='object')"
      ]
     },
     "execution_count": 142,
     "metadata": {},
     "output_type": "execute_result"
    }
   ],
   "source": [
    "categorical_attributes.columns"
   ]
  },
  {
   "cell_type": "code",
   "execution_count": 150,
   "id": "24ecdf1b",
   "metadata": {
    "ExecuteTime": {
     "end_time": "2023-05-04T18:47:56.601327Z",
     "start_time": "2023-05-04T18:47:56.002316Z"
    }
   },
   "outputs": [
    {
     "data": {
      "text/plain": [
       "<Axes: xlabel='vehicle_damage', ylabel='count'>"
      ]
     },
     "execution_count": 150,
     "metadata": {},
     "output_type": "execute_result"
    },
    {
     "data": {
      "image/png": "[encoded data removed]",
      "text/plain": [
       "<Figure size 2000x1000 with 3 Axes>"
      ]
     },
     "metadata": {},
     "output_type": "display_data"
    }
   ],
   "source": [
    "plt.figure(figsize=(20,10))\n",
    "\n",
    "#gender\n",
    "plt.subplot(2,2,1)\n",
    "sns.countplot(data=df4, x='gender', hue='response')\n",
    "\n",
    "#vehicle_age\n",
    "plt.subplot(2,2,2)\n",
    "sns.countplot(data=df4, x='vehicle_age', hue='response')\n",
    "\n",
    "#vehicle_damage\n",
    "plt.subplot(2,2,3)\n",
    "sns.countplot(data=df4, x='vehicle_damage', hue='response')\n"
   ]
  },
  {
   "cell_type": "markdown",
   "id": "554be6ac",
   "metadata": {},
   "source": [
    "## 4.2 Bilateral Analysis"
   ]
  },
  {
   "cell_type": "markdown",
   "id": "2b6d05dc",
   "metadata": {},
   "source": [
    "### 4.2.1 H1 - Pessoas que já possuem um seguro de saúde podem estar mais inclinadas a adquirir um seguro de veículo, pois já têm experiência com seguros."
   ]
  },
  {
   "cell_type": "code",
   "execution_count": null,
   "id": "4817c52f",
   "metadata": {},
   "outputs": [],
   "source": []
  }
 ],
 "metadata": {
  "kernelspec": {
   "display_name": "Python 3 (ipykernel)",
   "language": "python",
   "name": "python3"
  },
  "language_info": {
   "codemirror_mode": {
    "name": "ipython",
    "version": 3
   },
   "file_extension": ".py",
   "mimetype": "text/x-python",
   "name": "python",
   "nbconvert_exporter": "python",
   "pygments_lexer": "ipython3",
   "version": "3.10.11"
  },
  "varInspector": {
   "cols": {
    "lenName": 16,
    "lenType": 16,
    "lenVar": 40
   },
   "kernels_config": {
    "python": {
     "delete_cmd_postfix": "",
     "delete_cmd_prefix": "del ",
     "library": "var_list.py",
     "varRefreshCmd": "print(var_dic_list())"
    },
    "r": {
     "delete_cmd_postfix": ") ",
     "delete_cmd_prefix": "rm(",
     "library": "var_list.r",
     "varRefreshCmd": "cat(var_dic_list()) "
    }
   },
   "types_to_exclude": [
    "module",
    "function",
    "builtin_function_or_method",
    "instance",
    "_Feature"
   ],
   "window_display": false
  }
 },
 "nbformat": 4,
 "nbformat_minor": 5
}
